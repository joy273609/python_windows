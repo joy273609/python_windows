{
 "cells": [
  {
   "cell_type": "markdown",
   "metadata": {},
   "source": [
    "## python decorator"
   ]
  },
  {
   "cell_type": "markdown",
   "metadata": {},
   "source": [
    "python 的function是First-class的物件(實體)  \n",
    "->function可以有資料類型，ex:int、string  \n",
    "->function可以參考至變數  \n",
    "->function可以當作別的function的引數值或傳出值  \n",
    "***使用Callable[[參數,參數],傳出值的資料類型]  "
   ]
  },
  {
   "cell_type": "markdown",
   "metadata": {},
   "source": [
    "### 範例一:  \n",
    "function可以有資料類型  \n",
    "function可以當作別的function的引數值"
   ]
  },
  {
   "cell_type": "code",
   "execution_count": 2,
   "metadata": {},
   "outputs": [
    {
     "data": {
      "text/plain": [
       "'相加後的值是8'"
      ]
     },
     "execution_count": 2,
     "metadata": {},
     "output_type": "execute_result"
    }
   ],
   "source": [
    "from typing import Callable\n",
    "\n",
    "def my_function(a:int,b:int) -> str :\n",
    "    return f'相加後的值是{a + b}'\n",
    "\n",
    "def apply_function(func:Callable[[int,int],str],x:int,y:int) -> str:\n",
    "    return func(x,y)\n",
    "\n",
    "apply_function(my_function,3,5)\n"
   ]
  },
  {
   "cell_type": "markdown",
   "metadata": {},
   "source": [
    "範例一簡寫"
   ]
  },
  {
   "cell_type": "code",
   "execution_count": 4,
   "metadata": {},
   "outputs": [
    {
     "data": {
      "text/plain": [
       "'相加後的值是8'"
      ]
     },
     "execution_count": 4,
     "metadata": {},
     "output_type": "execute_result"
    }
   ],
   "source": [
    "from typing import Callable\n",
    "#定義\n",
    "MyFunctionType = Callable[[int,int],str]\n",
    "\n",
    "def my_function(a:int,b:int) -> str :\n",
    "    return f'相加後的值是{a + b}'\n",
    "\n",
    "#引用\n",
    "def apply_function(func:MyFunctionType,x:int,y:int) -> str:\n",
    "    return func(x,y)\n",
    "\n",
    "apply_function(my_function,3,5)\n"
   ]
  },
  {
   "cell_type": "markdown",
   "metadata": {},
   "source": [
    "### 範例二:\n",
    "function可以參考至變數  \n"
   ]
  },
  {
   "cell_type": "code",
   "execution_count": 5,
   "metadata": {},
   "outputs": [
    {
     "name": "stdout",
     "output_type": "stream",
     "text": [
      "hi\n"
     ]
    }
   ],
   "source": [
    "def greet():\n",
    "    print('hi')\n",
    "\n",
    "say_hi = greet\n",
    "say_hi()"
   ]
  },
  {
   "cell_type": "markdown",
   "metadata": {},
   "source": [
    "### 範例三:\n",
    "function可以當作別的function的引數值或傳出值 "
   ]
  },
  {
   "cell_type": "code",
   "execution_count": 6,
   "metadata": {},
   "outputs": [],
   "source": [
    "def outter_function():\n",
    "    print('這是outter_function')\n",
    "    def inner_function():\n",
    "        print('這是inner_function')\n",
    "    return inner_function"
   ]
  },
  {
   "cell_type": "code",
   "execution_count": 10,
   "metadata": {},
   "outputs": [
    {
     "name": "stdout",
     "output_type": "stream",
     "text": [
      "這是outter_function\n"
     ]
    }
   ],
   "source": [
    "my_func = outter_function()"
   ]
  },
  {
   "cell_type": "code",
   "execution_count": 11,
   "metadata": {},
   "outputs": [
    {
     "name": "stdout",
     "output_type": "stream",
     "text": [
      "這是inner_function\n"
     ]
    }
   ],
   "source": [
    "my_func()"
   ]
  },
  {
   "cell_type": "markdown",
   "metadata": {},
   "source": [
    "### 範例四:\n",
    "decorator_function"
   ]
  },
  {
   "cell_type": "code",
   "execution_count": 13,
   "metadata": {},
   "outputs": [
    {
     "name": "stdout",
     "output_type": "stream",
     "text": [
      "前面增加功能\n",
      "Hello\n",
      "後面增加的功能\n"
     ]
    }
   ],
   "source": [
    "def say_hello():\n",
    "    print('Hello')\n",
    "#建立一個function，這個function會擴充say_hello()的功能->即為decorator function\n",
    "\n",
    "def decorator_function(original_function):\n",
    "    def wrapper_function():\n",
    "        print('前面增加功能')\n",
    "        original_function()\n",
    "        print('後面增加的功能')\n",
    "    return wrapper_function\n",
    "    \n",
    "my_func = decorator_function(say_hello)\n",
    "my_func()"
   ]
  },
  {
   "cell_type": "markdown",
   "metadata": {},
   "source": [
    "decorator簡寫"
   ]
  },
  {
   "cell_type": "code",
   "execution_count": 15,
   "metadata": {},
   "outputs": [
    {
     "name": "stdout",
     "output_type": "stream",
     "text": [
      "前面增加功能\n",
      "Hi\n",
      "後面增加的功能\n"
     ]
    }
   ],
   "source": [
    "def decorator_function(original_function):\n",
    "    def wrapper_function():\n",
    "        print('前面增加功能')\n",
    "        original_function()\n",
    "        print('後面增加的功能')\n",
    "    return wrapper_function\n",
    "\n",
    "#使用decorator增加功能\n",
    "@decorator_function\n",
    "def abc():\n",
    "    print('Hi')\n",
    "abc()"
   ]
  },
  {
   "cell_type": "markdown",
   "metadata": {},
   "source": [
    "### 範例五:"
   ]
  },
  {
   "cell_type": "code",
   "execution_count": 17,
   "metadata": {},
   "outputs": [
    {
     "name": "stdout",
     "output_type": "stream",
     "text": [
      "function執行完畢\n",
      "slow_function花了多少時間2.0012\n"
     ]
    }
   ],
   "source": [
    "import time\n",
    "def timer_decorator(func):\n",
    "    def wrapper():\n",
    "        start_time = time.time()\n",
    "        func()\n",
    "        end_time = time.time()\n",
    "        print(f'{func.__name__}花了多少時間{end_time-start_time:.4f}')\n",
    "    return wrapper\n",
    "   \n",
    "@timer_decorator\n",
    "def slow_function():\n",
    "    time.sleep(2)\n",
    "    print('function執行完畢')\n",
    "\n",
    "slow_function()"
   ]
  }
 ],
 "metadata": {
  "kernelspec": {
   "display_name": "tvdi",
   "language": "python",
   "name": "python3"
  },
  "language_info": {
   "codemirror_mode": {
    "name": "ipython",
    "version": 3
   },
   "file_extension": ".py",
   "mimetype": "text/x-python",
   "name": "python",
   "nbconvert_exporter": "python",
   "pygments_lexer": "ipython3",
   "version": "3.11.10"
  }
 },
 "nbformat": 4,
 "nbformat_minor": 2
}
