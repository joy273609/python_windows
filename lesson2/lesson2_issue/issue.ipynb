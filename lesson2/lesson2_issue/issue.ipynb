{
 "cells": [
  {
   "cell_type": "markdown",
   "metadata": {},
   "source": [
    "#### 使用 Python 內建的 csv 模組讀取文件，並請輸出"
   ]
  },
  {
   "cell_type": "code",
   "execution_count": 72,
   "metadata": {},
   "outputs": [
    {
     "name": "stdout",
     "output_type": "stream",
     "text": [
      "{'name': 'John', 'age': '23', 'city': 'New York'}\n",
      "{'name': 'Jane', 'age': '29', 'city': 'Los Angeles'}\n",
      "{'name': 'Doe', 'age': '25', 'city': 'Chicago'}\n",
      "{'name': 'Anna', 'age': '22', 'city': 'Houston'}\n"
     ]
    }
   ],
   "source": [
    "import csv\n",
    "with open(\"student.csv\",encoding=\"utf-8\") as file:\n",
    "    # 使用.DicReader（） 將csv轉成字典資料型態    \n",
    "    # 將資料來源第一行會轉為key，key下面的值為對應的value  \n",
    "    # 所以轉為字典後key=name,age,city  \n",
    "    # key=name , value=Jhon,Jane,Doe,Anna 以此類推  \n",
    "\n",
    "    csv_Reader=csv.DictReader(file)\n",
    "    #最後印出字典內的每一行  \n",
    "    for row in csv_Reader:\n",
    "        print(row)"
   ]
  },
  {
   "cell_type": "markdown",
   "metadata": {},
   "source": [
    "#### 篩選內容:年齡大於25的人"
   ]
  },
  {
   "cell_type": "code",
   "execution_count": 84,
   "metadata": {},
   "outputs": [
    {
     "name": "stdout",
     "output_type": "stream",
     "text": [
      "{'name': 'John', 'age': '23', 'city': 'New York'}\n",
      "{'name': 'Jane', 'age': '29', 'city': 'Los Angeles'}\n",
      "{'name': 'Doe', 'age': '25', 'city': 'Chicago'}\n",
      "{'name': 'Anna', 'age': '22', 'city': 'Houston'}\n",
      "\n",
      "篩選結果:\n",
      "{'name': 'Jane', 'age': '29', 'city': 'Los Angeles'}\n"
     ]
    }
   ],
   "source": [
    "import csv\n",
    "with open(\"student.csv\",encoding=\"utf-8\") as file:\n",
    "    csv_Reader=csv.DictReader(file)\n",
    "    #建立串列\n",
    "    over_25=[]\n",
    "    for row in csv_Reader:\n",
    "        print(row)\n",
    "        if int(row[\"age\"])>25:\n",
    "            over_25.append(row)\n",
    "#直接印出over_25會把整個串列印出來，所以要用迴圈把每一個印出來 \n",
    "for person in over_25:\n",
    "    print(f\"\\n篩選結果:\\n{person}\")"
   ]
  },
  {
   "cell_type": "markdown",
   "metadata": {},
   "source": [
    "#### 輸出篩選後的結果儲存至新 CSV 文件"
   ]
  },
  {
   "cell_type": "code",
   "execution_count": 3,
   "metadata": {},
   "outputs": [
    {
     "name": "stdout",
     "output_type": "stream",
     "text": [
      "{'name': 'John', 'age': '23', 'city': 'New York'}\n",
      "{'name': 'Jane', 'age': '29', 'city': 'Los Angeles'}\n",
      "{'name': 'Doe', 'age': '25', 'city': 'Chicago'}\n",
      "{'name': 'Anna', 'age': '22', 'city': 'Houston'}\n",
      "\n",
      "篩選結果:\n",
      "{'name': 'Jane', 'age': '29', 'city': 'Los Angeles'}\n"
     ]
    }
   ],
   "source": [
    "import csv\n",
    "with open(\"student.csv\",encoding=\"utf-8\") as file:\n",
    "    csv_Reader=csv.DictReader(file)\n",
    "    over_25=[]\n",
    "    for row in csv_Reader:\n",
    "        print(row)\n",
    "        if int(row[\"age\"])>25:\n",
    "            over_25.append(row)\n",
    "for person in over_25:\n",
    "    print(f\"\\n篩選結果:\\n{person}\")\n",
    "    \n",
    "with open(\"student.txt\",mode=\"w\",encoding=\"utf-8\") as file:\n",
    "    for person in over_25:\n",
    "        # 寫入,file.write() 傳入的需要是字串類型，person為字典，所以要轉換資料型態\n",
    "        file.write(str(person))"
   ]
  }
 ],
 "metadata": {
  "kernelspec": {
   "display_name": "home_tvdi",
   "language": "python",
   "name": "python3"
  },
  "language_info": {
   "codemirror_mode": {
    "name": "ipython",
    "version": 3
   },
   "file_extension": ".py",
   "mimetype": "text/x-python",
   "name": "python",
   "nbconvert_exporter": "python",
   "pygments_lexer": "ipython3",
   "version": "3.11.10"
  }
 },
 "nbformat": 4,
 "nbformat_minor": 2
}
