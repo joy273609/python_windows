{
 "cells": [
  {
   "cell_type": "markdown",
   "metadata": {},
   "source": [
    "####  建立資料庫"
   ]
  },
  {
   "cell_type": "code",
   "execution_count": 3,
   "metadata": {},
   "outputs": [],
   "source": [
    "#新增欄位\n",
    "sql = '''\n",
    "CREATE TABLE IF NOT EXISTS records (\n",
    "\tid INTEGER NOT NULL PRIMARY KEY AUTOINCREMENT,\n",
    "\tsitename TEXT NOT NULL,\n",
    "\tcounty TEXT,\n",
    "\taqi INTEGER,\n",
    "\tstatus TEXT,\n",
    "\tpm25 NUMERIC,\n",
    "\tdate TEXT,\n",
    "\tlat NUMERIC,\n",
    "\tlon NUMERIC\n",
    ");\n",
    "'''\n",
    "\n",
    "import sqlite3\n",
    "#連線物件(conn)允許我們與資料庫互動\n",
    "#使用sqlite3.connect() 方法建立連線，並創建或打開一個名為\"AQI.db\"的SQLite資料庫。\n",
    "conn = sqlite3.connect(\"AQI_test.db\")\n",
    "\n",
    "#建立一個游標物件 (cursor)，用來執行 SQL 指令並操作資料庫。游標提供查詢和處理結果的介面。\n",
    "cursor = conn.cursor()\n",
    "\n",
    "#根據sql中的指令對資料庫進行查詢或更新。\n",
    "cursor.execute(sql)\n",
    "\n",
    "#提交對資料庫的變更\n",
    "conn.commit()\n",
    "#關閉游標\n",
    "cursor.close()\n",
    "#關閉資料庫連線\n",
    "conn.close()"
   ]
  },
  {
   "cell_type": "markdown",
   "metadata": {},
   "source": [
    "####  新增資料"
   ]
  },
  {
   "cell_type": "code",
   "execution_count": 4,
   "metadata": {},
   "outputs": [],
   "source": [
    "insertSQL = '''\n",
    "INSERT INTO records(sitename,county,aqi,status,pm25,date,lat,lon)\n",
    "VALUES ('屏東(枋山)','屏東縣',18,'良好',6.2,'2024-10-28 09:00',22.260899,120.651472)\n",
    "'''\n",
    "conn = sqlite3.connect(\"AQI.db\")\n",
    "\n",
    "# Create a cursor object\n",
    "cursor = conn.cursor()\n",
    "\n",
    "# Create a table\n",
    "cursor.execute(insertSQL)\n",
    "\n",
    "# Commit changes and close the connection\n",
    "conn.commit()\n",
    "cursor.close()\n",
    "conn.close()"
   ]
  }
 ],
 "metadata": {
  "kernelspec": {
   "display_name": "home_tvdi",
   "language": "python",
   "name": "python3"
  },
  "language_info": {
   "codemirror_mode": {
    "name": "ipython",
    "version": 3
   },
   "file_extension": ".py",
   "mimetype": "text/x-python",
   "name": "python",
   "nbconvert_exporter": "python",
   "pygments_lexer": "ipython3",
   "version": "3.11.10"
  }
 },
 "nbformat": 4,
 "nbformat_minor": 2
}
