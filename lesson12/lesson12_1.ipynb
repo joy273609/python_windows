{
 "cells": [
  {
   "cell_type": "code",
   "execution_count": 3,
   "metadata": {},
   "outputs": [],
   "source": [
    "from dotenv import load_dotenv\n",
    "import os\n",
    "import requests\n",
    "load_dotenv()\n",
    "def get_aqi_str(aqi_key:str)->str:\n",
    "    url = f'https://data.moenv.gov.tw/api/v2/aqx_p_432?api_key={aqi_key}&limit=1000&sort=ImportDate desc&format=JSON'\n",
    "    try:\n",
    "        r = requests.get(url)\n",
    "        r.raise_for_status()\n",
    "    except Exception as e:\n",
    "        print(f'發生錯誤:{e}')\n",
    "    return r.text\n",
    "\n",
    "aqi_data= get_aqi_str(aqi_key=os.environ['AQI_KEY'])"
   ]
  },
  {
   "cell_type": "code",
   "execution_count": 8,
   "metadata": {},
   "outputs": [
    {
     "data": {
      "text/plain": [
       "AQI(resource_id='8d2f907f-bbb4-4fdf-8f08-8eabae15da45', include_total=True, total=84, resource_format='object', limit=1000, offset=0)"
      ]
     },
     "execution_count": 8,
     "metadata": {},
     "output_type": "execute_result"
    }
   ],
   "source": [
    "from pydantic import BaseModel\n",
    "class AQI(BaseModel):\n",
    "    resource_id: str\n",
    "    include_total: bool\n",
    "    total: int\n",
    "    resource_format: str\n",
    "    limit: int\n",
    "    offset: int\n",
    "\n",
    "aqi:AQI = AQI.model_validate_json(aqi_data)\n",
    "aqi\n"
   ]
  },
  {
   "cell_type": "code",
   "execution_count": 7,
   "metadata": {},
   "outputs": [
    {
     "data": {
      "text/plain": [
       "str"
      ]
     },
     "execution_count": 7,
     "metadata": {},
     "output_type": "execute_result"
    }
   ],
   "source": [
    "type(r.text)"
   ]
  },
  {
   "cell_type": "code",
   "execution_count": null,
   "metadata": {},
   "outputs": [],
   "source": [
    "json_data"
   ]
  }
 ],
 "metadata": {
  "kernelspec": {
   "display_name": "tvdi",
   "language": "python",
   "name": "python3"
  },
  "language_info": {
   "codemirror_mode": {
    "name": "ipython",
    "version": 3
   },
   "file_extension": ".py",
   "mimetype": "text/x-python",
   "name": "python",
   "nbconvert_exporter": "python",
   "pygments_lexer": "ipython3",
   "version": "3.11.10"
  }
 },
 "nbformat": 4,
 "nbformat_minor": 2
}
