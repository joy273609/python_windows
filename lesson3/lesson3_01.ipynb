{
 "cells": [
  {
   "cell_type": "code",
   "execution_count": 7,
   "metadata": {},
   "outputs": [],
   "source": [
    "class Person(object):\n",
    "    def __init__(self,n:str,a:int):\n",
    "        self.name=n\n",
    "        self.age=a\n",
    "\n",
    "    def __repr__(self) -> str:\n",
    "        return f\"我的名字叫: {self.name}\\n我的年齡為: {self.age}\""
   ]
  },
  {
   "cell_type": "code",
   "execution_count": 8,
   "metadata": {},
   "outputs": [
    {
     "name": "stdout",
     "output_type": "stream",
     "text": [
      "我的名字叫: robert\n",
      "我的年齡為: 18\n",
      "--------------------\n",
      "我的名字叫: joy\n",
      "我的年齡為: 25\n"
     ]
    }
   ],
   "source": [
    "p1=Person(n=\"robert\",a=18)\n",
    "print(p1)\n",
    "\n",
    "print(\"--------------------\")\n",
    "\n",
    "p2=Person(n=\"joy\",a=25)\n",
    "print(p2)"
   ]
  },
  {
   "cell_type": "code",
   "execution_count": 21,
   "metadata": {},
   "outputs": [],
   "source": [
    "class Person(object):\n",
    "    def __init__(self,name:str,age:int):\n",
    "        self.__name=name\n",
    "        self.age=age\n",
    "\n",
    "    def __repr__(self) -> str:\n",
    "        return f\"我的名字叫: {self.name}\\n我的年齡為: {self.age}\"\n",
    "    \n",
    "    @property\n",
    "    def name(self)->str:\n",
    "        return self.__name\n",
    "    \n",
    "    @name.setter\n",
    "    def name(self,n):\n",
    "        print(f\"名字不能改為{n}\")\n",
    "    \n"
   ]
  },
  {
   "cell_type": "code",
   "execution_count": 22,
   "metadata": {},
   "outputs": [
    {
     "name": "stdout",
     "output_type": "stream",
     "text": [
      "名字不能改為abc\n",
      "robert\n",
      "--------------------\n",
      "joy\n"
     ]
    }
   ],
   "source": [
    "p1=Person(name=\"robert\",age=18)\n",
    "p1.name=\"abc\"\n",
    "print(p1.name)\n",
    "\n",
    "print(\"--------------------\")\n",
    "\n",
    "p2=Person(name=\"joy\",age=25)\n",
    "print(p2.name)"
   ]
  },
  {
   "cell_type": "code",
   "execution_count": 23,
   "metadata": {},
   "outputs": [],
   "source": [
    "class Person(object):\n",
    "    def __init__(self,name:str,age:int):\n",
    "        self.__name=name\n",
    "        self.__age=age\n",
    "\n",
    "    def __repr__(self) -> str:\n",
    "        return f\"我的名字叫: {self.name}\\n我的年齡為: {self.age}\"\n",
    "    \n",
    "    @property\n",
    "    def name(self)->str:\n",
    "        return self.__name\n",
    "    @name.setter\n",
    "    def name(self,n):\n",
    "        print(f\"名字不能改為{n}\")\n",
    "\n",
    "    @property\n",
    "    def age(self)->int:\n",
    "        return self.__age\n",
    "    @age.setter\n",
    "    def age(self,value):\n",
    "        if value>100 or value<0:\n",
    "            print(\"不合法的值\")\n",
    "        else:\n",
    "            self.__age=value"
   ]
  },
  {
   "cell_type": "code",
   "execution_count": 28,
   "metadata": {},
   "outputs": [
    {
     "name": "stdout",
     "output_type": "stream",
     "text": [
      "名字不能改為abc\n",
      "不合法的值\n",
      "robert\n",
      "28\n",
      "--------------------\n",
      "joy\n",
      "25\n"
     ]
    }
   ],
   "source": [
    "p1=Person(name=\"robert\",age=18)\n",
    "p1.name=\"abc\"\n",
    "p1.age=200\n",
    "p1.age=28\n",
    "print(p1.name)\n",
    "print(p1.age)\n",
    "\n",
    "print(\"--------------------\")\n",
    "\n",
    "p2=Person(name=\"joy\",age=25)\n",
    "print(p2.name)\n",
    "print(p2.age)"
   ]
  }
 ],
 "metadata": {
  "kernelspec": {
   "display_name": "tvdi",
   "language": "python",
   "name": "python3"
  },
  "language_info": {
   "codemirror_mode": {
    "name": "ipython",
    "version": 3
   },
   "file_extension": ".py",
   "mimetype": "text/x-python",
   "name": "python",
   "nbconvert_exporter": "python",
   "pygments_lexer": "ipython3",
   "version": "3.11.10"
  }
 },
 "nbformat": 4,
 "nbformat_minor": 2
}
