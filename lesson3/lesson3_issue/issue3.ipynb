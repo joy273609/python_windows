{
 "cells": [
  {
   "cell_type": "code",
   "execution_count": 1,
   "metadata": {},
   "outputs": [],
   "source": [
    "import requests\n",
    "from requests import Response"
   ]
  },
  {
   "cell_type": "markdown",
   "metadata": {},
   "source": [
    "##### 利用requests下載圖片"
   ]
  },
  {
   "cell_type": "code",
   "execution_count": 4,
   "metadata": {},
   "outputs": [],
   "source": [
    "url = 'https://media.gq.com.tw/photos/6666a988382caac8581d3969/16:9/w_2240,c_limit/08120706-hierarchy-101-unit-s30j2v030_cover_1600x1067%20%E6%8B%B7%E8%B2%9D.jpg'\n",
    "response:Response=requests.get(url)"
   ]
  },
  {
   "cell_type": "markdown",
   "metadata": {},
   "source": [
    "#### 存檔為a3.jpg\n",
    "wb表示以寫入（w）和二進位（b）模式打開檔案。\n",
    "二進位模式（b 模式）是用來處理非文本數據的檔案操作模式。在這種模式下，資料是以原始的二進位格式讀取或寫入，而不是經過編碼的文本格式。這意味著：\n",
    "\n",
    "數據完整性：二進位模式可以確保數據不會被意外轉換或損壞，例如在處理圖片、音頻或視頻文件時。\n",
    "效率：直接讀寫二進位數據通常比將數據轉換為文本格式（如 UTF-8）更高效。\n",
    "跨平台性：在不同操作系統之間移動二進位檔案時，能更好地保持一致性，因為文本模式可能因為行結尾的差異而引入問題。"
   ]
  },
  {
   "cell_type": "code",
   "execution_count": 5,
   "metadata": {},
   "outputs": [],
   "source": [
    "with open(\"a3.jpg\",mode=\"wb\") as file3:\n",
    "    file3.write(response.content)"
   ]
  }
 ],
 "metadata": {
  "kernelspec": {
   "display_name": "tvdi",
   "language": "python",
   "name": "python3"
  },
  "language_info": {
   "codemirror_mode": {
    "name": "ipython",
    "version": 3
   },
   "file_extension": ".py",
   "mimetype": "text/x-python",
   "name": "python",
   "nbconvert_exporter": "python",
   "pygments_lexer": "ipython3",
   "version": "3.11.10"
  }
 },
 "nbformat": 4,
 "nbformat_minor": 2
}
