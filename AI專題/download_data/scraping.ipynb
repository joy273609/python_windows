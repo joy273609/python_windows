{
 "cells": [
  {
   "cell_type": "code",
   "execution_count": null,
   "metadata": {},
   "outputs": [],
   "source": [
    "from os import listdir # 列出指定路徑的檔案清單\n",
    "listdir(r'/Applications/Google Chrome.app/Contents/MacOS/Google Chrome')"
   ]
  },
  {
   "cell_type": "code",
   "execution_count": null,
   "metadata": {},
   "outputs": [],
   "source": [
    "from os import listdir # 列出指定路徑的檔案清單\n",
    "listdir(r'/Applications/Google Chrome.app/Contents')"
   ]
  },
  {
   "cell_type": "markdown",
   "metadata": {},
   "source": [
    "### ----------start------------"
   ]
  },
  {
   "cell_type": "markdown",
   "metadata": {},
   "source": [
    "##### 確認自己瀏覽器版本，自動更新網頁header，避免伺服器偵測出你是利用python進行爬蟲"
   ]
  },
  {
   "cell_type": "code",
   "execution_count": 10,
   "metadata": {},
   "outputs": [
    {
     "name": "stdout",
     "output_type": "stream",
     "text": [
      "Google Chrome 131.0.6778.109\n",
      "131\n"
     ]
    }
   ],
   "source": [
    "import subprocess\n",
    "#使用process模組執行\n",
    "process = subprocess.Popen(['/Applications/Google Chrome.app/Contents/MacOS/Google Chrome','--version'],stdout=subprocess.PIPE)\n",
    "output,error = process.communicate()\n",
    "#輸出並確認瀏覽器版本號\n",
    "print(output.decode('utf-8').strip())\n",
    "print(output.decode('utf-8').strip().split(\" \")[2].split(\".\")[0])"
   ]
  },
  {
   "cell_type": "markdown",
   "metadata": {},
   "source": [
    "##### 將版本號存入變數中，在另外合併字串存入header變數"
   ]
  },
  {
   "cell_type": "code",
   "execution_count": 23,
   "metadata": {},
   "outputs": [
    {
     "name": "stdout",
     "output_type": "stream",
     "text": [
      "{'User-Agent': 'Mozilla/5.0 (Macintosh; Intel Mac OS X 10_15_7) AppleWebKit/537.36 (KHTML, like Gecko) Chrome/131.0.0.0 Safari/537.36'}\n"
     ]
    }
   ],
   "source": [
    "from os import listdir\n",
    "\n",
    "chrome_version = output.decode('utf-8').strip().split(\" \")[2].split(\".\")[0]\n",
    "header = {'User-Agent': f'Mozilla/5.0 (Macintosh; Intel Mac OS X 10_15_7) AppleWebKit/537.36 (KHTML, like Gecko) Chrome/{chrome_version}.0.0.0 Safari/537.36'}\n",
    "print(header)"
   ]
  },
  {
   "cell_type": "code",
   "execution_count": 24,
   "metadata": {},
   "outputs": [
    {
     "data": {
      "text/plain": [
       "{\"KeyNo\":\"\",\"Success\":false,\"ErrorMessage\":\"傳輸的資料為空\",\"Message\":\"\",\"Message1\":\"\",\"RowCount\":\"\",\"LLMT\":\"\"}"
      ]
     },
     "execution_count": 24,
     "metadata": {},
     "output_type": "execute_result"
    }
   ],
   "source": [
    "import requests\n",
    "from bs4 import BeautifulSoup\n",
    "\n",
    "chrome_version = output.decode('utf-8').strip().split(\" \")[2].split(\".\")[0]\n",
    "header = {\"Content-Type\": \"application/json\",'User-Agent': f'Mozilla/5.0 (Macintosh; Intel Mac OS X 10_15_7) AppleWebKit/537.36 (KHTML, like Gecko) Chrome/{chrome_version}.0.0.0 Safari/537.36'}\n",
    "\n",
    "url = 'https://www.pet.gov.tw/Handler/PostData.ashx'\n",
    "r = requests.post(url, headers=header)\n",
    "soup = BeautifulSoup(r.text, 'html.parser')\n",
    "soup"
   ]
  },
  {
   "cell_type": "code",
   "execution_count": null,
   "metadata": {},
   "outputs": [],
   "source": [
    "#post酬載\n",
    "#Param: {\"SDATE\":\"2024/01/01\",\"EDATE\":\"2024/01/31\",\"Animal\":\"0\"}"
   ]
  },
  {
   "cell_type": "code",
   "execution_count": null,
   "metadata": {},
   "outputs": [
    {
     "ename": "NameError",
     "evalue": "name 'true' is not defined",
     "output_type": "error",
     "traceback": [
      "\u001b[0;31m---------------------------------------------------------------------------\u001b[0m",
      "\u001b[0;31mNameError\u001b[0m                                 Traceback (most recent call last)",
      "Cell \u001b[0;32mIn[29], line 2\u001b[0m\n\u001b[1;32m      1\u001b[0m url \u001b[38;5;241m=\u001b[39m \u001b[38;5;124m'\u001b[39m\u001b[38;5;124mhttps://www.pet.gov.tw/Handler/PostData.ashx\u001b[39m\u001b[38;5;124m'\u001b[39m\n\u001b[0;32m----> 2\u001b[0m data \u001b[38;5;241m=\u001b[39m {\u001b[38;5;124m\"\u001b[39m\u001b[38;5;124mSDATE\u001b[39m\u001b[38;5;124m\"\u001b[39m:\u001b[38;5;124m\"\u001b[39m\u001b[38;5;124m2024/01/01\u001b[39m\u001b[38;5;124m\"\u001b[39m,\u001b[38;5;124m\"\u001b[39m\u001b[38;5;124mEDATE\u001b[39m\u001b[38;5;124m\"\u001b[39m:\u001b[38;5;124m\"\u001b[39m\u001b[38;5;124m2024/01/31\u001b[39m\u001b[38;5;124m\"\u001b[39m,\u001b[38;5;124m\"\u001b[39m\u001b[38;5;124mAnimal\u001b[39m\u001b[38;5;124m\"\u001b[39m:\u001b[38;5;124m\"\u001b[39m\u001b[38;5;124m1\u001b[39m\u001b[38;5;124m\"\u001b[39m,\u001b[38;5;124m'\u001b[39m\u001b[38;5;124mSuccess\u001b[39m\u001b[38;5;124m'\u001b[39m: \u001b[43mtrue\u001b[49m}\n\u001b[1;32m      3\u001b[0m r \u001b[38;5;241m=\u001b[39m requests\u001b[38;5;241m.\u001b[39mpost(url, headers\u001b[38;5;241m=\u001b[39mheader, data\u001b[38;5;241m=\u001b[39mdata)\n\u001b[1;32m      4\u001b[0m soup \u001b[38;5;241m=\u001b[39m BeautifulSoup(r\u001b[38;5;241m.\u001b[39mtext, \u001b[38;5;124m'\u001b[39m\u001b[38;5;124mhtml.parser\u001b[39m\u001b[38;5;124m'\u001b[39m)\n",
      "\u001b[0;31mNameError\u001b[0m: name 'true' is not defined"
     ]
    }
   ],
   "source": [
    "url = 'https://www.pet.gov.tw/Handler/PostData.ashx'\n",
    "data = {\"SDATE\":\"2024/01/01\",\"EDATE\":\"2024/01/31\",\"Animal\":\"1\"}\n",
    "r = requests.post(url, headers=header, data=data)\n",
    "soup = BeautifulSoup(r.text, 'html.parser')\n",
    "soup\n"
   ]
  },
  {
   "cell_type": "code",
   "execution_count": null,
   "metadata": {},
   "outputs": [],
   "source": [
    "'Message'\n",
    ": \n",
    "\"[{\\\"AreaID\\\":\\\"A\\\",\\\"AreaName\\\":\\\"新北市\\\",\\\"fld01\\\":142,\\\"fld02\\\":1064,\\\"fld03\\\":56,\\\"fld05\\\":973,\\\"fld06\\\":148,\\\"fld04\\\":429,\\\"fld08\\\":5,\\\"fld07\\\":18,\\\"fld10\\\":0,\\\"QueryDT\\\":\\\"2024/12/07\\\"},{\\\"AreaID\\\":\\\"V\\\",\\\"AreaName\\\":\\\"臺北市\\\",\\\"fld01\\\":82,\\\"fld02\\\":541,\\\"fld03\\\":23,\\\"fld05\\\":400,\\\"fld06\\\":67,\\\"fld04\\\":248,\\\"fld08\\\":4,\\\"fld07\\\":2,\\\"fld10\\\":0,\\\"QueryDT\\\":\\\"2024/12/07\\\"},{\\\"AreaID\\\":\\\"S\\\",\\\"AreaName\\\":\\\"臺中市\\\",\\\"fld01\\\":100,\\\"fld02\\\":804,\\\"fld03\\\":23,\\\"fld05\\\":658,\\\"fld06\\\":80,\\\"fld04\\\":401,\\\"fld08\\\":3,\\\"fld07\\\":6,\\\"fld10\\\":0,\\\"QueryDT\\\":\\\"2024/12/07\\\"},{\\\"AreaID\\\":\\\"U\\\",\\\"AreaName\\\":\\\"臺南市\\\",\\\"fld01\\\":77,\\\"fld02\\\":595,\\\"fld03\\\":28,\\\"fld05\\\":431,\\\"fld06\\\":55,\\\"fld04\\\":147,\\\"fld08\\\":1,\\\"fld07\\\":9,\\\"fld10\\\":0,\\\"QueryDT\\\":\\\"2024/12/07\\\"},{\\\"AreaID\\\":\\\"W\\\",\\\"AreaName\\\":\\\"高雄市\\\",\\\"fld01\\\":114,\\\"fld02\\\":759,\\\"fld03\\\":39,\\\"fld05\\\":638,\\\"fld06\\\":90,\\\"fld04\\\":247,\\\"fld08\\\":1,\\\"fld07\\\":19,\\\"fld10\\\":0,\\\"QueryDT\\\":\\\"2024/12/07\\\"},{\\\"AreaID\\\":\\\"C\\\",\\\"AreaName\\\":\\\"桃園市\\\",\\\"fld01\\\":93,\\\"fld02\\\":666,\\\"fld03\\\":16,\\\"fld05\\\":632,\\\"fld06\\\":94,\\\"fld04\\\":241,\\\"fld08\\\":1,\\\"fld07\\\":14,\\\"fld10\\\":0,\\\"QueryDT\\\":\\\"2024/12/07\\\"},{\\\"AreaID\\\":\\\"B\\\",\\\"AreaName\\\":\\\"宜蘭縣\\\",\\\"fld01\\\":15,\\\"fld02\\\":137,\\\"fld03\\\":6,\\\"fld05\\\":120,\\\"fld06\\\":13,\\\"fld04\\\":48,\\\"fld08\\\":1,\\\"fld07\\\":6,\\\"fld10\\\":0,\\\"QueryDT\\\":\\\"2024/12/07\\\"},{\\\"AreaID\\\":\\\"D\\\",\\\"AreaName\\\":\\\"新竹縣\\\",\\\"fld01\\\":20,\\\"fld02\\\":221,\\\"fld03\\\":3,\\\"fld05\\\":99,\\\"fld06\\\":19,\\\"fld04\\\":133,\\\"fld08\\\":2,\\\"fld07\\\":7,\\\"fld10\\\":0,\\\"QueryDT\\\":\\\"2024/12/07\\\"},{\\\"AreaID\\\":\\\"E\\\",\\\"AreaName\\\":\\\"苗栗縣\\\",\\\"fld01\\\":18,\\\"fld02\\\":281,\\\"fld03\\\":3,\\\"fld05\\\":76,\\\"fld06\\\":17,\\\"fld04\\\":112,\\\"fld08\\\":1,\\\"fld07\\\":4,\\\"fld10\\\":0,\\\"QueryDT\\\":\\\"2024/12/07\\\"},{\\\"AreaID\\\":\\\"G\\\",\\\"AreaName\\\":\\\"彰化縣\\\",\\\"fld01\\\":54,\\\"fld02\\\":469,\\\"fld03\\\":86,\\\"fld05\\\":234,\\\"fld06\\\":22,\\\"fld04\\\":219,\\\"fld08\\\":76,\\\"fld07\\\":7,\\\"fld10\\\":0,\\\"QueryDT\\\":\\\"2024/12/07\\\"},{\\\"AreaID\\\":\\\"H\\\",\\\"AreaName\\\":\\\"南投縣\\\",\\\"fld01\\\":13,\\\"fld02\\\":164,\\\"fld03\\\":5,\\\"fld05\\\":77,\\\"fld06\\\":25,\\\"fld04\\\":70,\\\"fld08\\\":1,\\\"fld07\\\":8,\\\"fld10\\\":0,\\\"QueryDT\\\":\\\"2024/12/07\\\"},{\\\"AreaID\\\":\\\"I\\\",\\\"AreaName\\\":\\\"雲林縣\\\",\\\"fld01\\\":16,\\\"fld02\\\":118,\\\"fld03\\\":2,\\\"fld05\\\":92,\\\"fld06\\\":7,\\\"fld04\\\":50,\\\"fld08\\\":1,\\\"fld07\\\":1,\\\"fld10\\\":0,\\\"QueryDT\\\":\\\"2024/12/07\\\"},{\\\"AreaID\\\":\\\"J\\\",\\\"AreaName\\\":\\\"嘉義縣\\\",\\\"fld01\\\":11,\\\"fld02\\\":114,\\\"fld03\\\":1,\\\"fld05\\\":87,\\\"fld06\\\":5,\\\"fld04\\\":30,\\\"fld08\\\":0,\\\"fld07\\\":1,\\\"fld10\\\":0,\\\"QueryDT\\\":\\\"2024/12/07\\\"},{\\\"AreaID\\\":\\\"M\\\",\\\"AreaName\\\":\\\"屏東縣\\\",\\\"fld01\\\":56,\\\"fld02\\\":313,\\\"fld03\\\":10,\\\"fld05\\\":155,\\\"fld06\\\":18,\\\"fld04\\\":138,\\\"fld08\\\":0,\\\"fld07\\\":1,\\\"fld10\\\":0,\\\"QueryDT\\\":\\\"2024/12/07\\\"},{\\\"AreaID\\\":\\\"N\\\",\\\"AreaName\\\":\\\"臺東縣\\\",\\\"fld01\\\":5,\\\"fld02\\\":277,\\\"fld03\\\":7,\\\"fld05\\\":37,\\\"fld06\\\":17,\\\"fld04\\\":153,\\\"fld08\\\":2,\\\"fld07\\\":17,\\\"fld10\\\":0,\\\"QueryDT\\\":\\\"2024/12/07\\\"},{\\\"AreaID\\\":\\\"O\\\",\\\"AreaName\\\":\\\"花蓮縣\\\",\\\"fld01\\\":13,\\\"fld02\\\":130,\\\"fld03\\\":2,\\\"fld05\\\":60,\\\"fld06\\\":22,\\\"fld04\\\":53,\\\"fld08\\\":2,\\\"fld07\\\":3,\\\"fld10\\\":0,\\\"QueryDT\\\":\\\"2024/12/07\\\"},{\\\"AreaID\\\":\\\"P\\\",\\\"AreaName\\\":\\\"澎湖縣\\\",\\\"fld01\\\":3,\\\"fld02\\\":23,\\\"fld03\\\":0,\\\"fld05\\\":18,\\\"fld06\\\":1,\\\"fld04\\\":5,\\\"fld08\\\":0,\\\"fld07\\\":0,\\\"fld10\\\":0,\\\"QueryDT\\\":\\\"2024/12/07\\\"},{\\\"AreaID\\\":\\\"Q\\\",\\\"AreaName\\\":\\\"基隆市\\\",\\\"fld01\\\":8,\\\"fld02\\\":76,\\\"fld03\\\":8,\\\"fld05\\\":78,\\\"fld06\\\":10,\\\"fld04\\\":26,\\\"fld08\\\":0,\\\"fld07\\\":0,\\\"fld10\\\":0,\\\"QueryDT\\\":\\\"2024/12/07\\\"},{\\\"AreaID\\\":\\\"R\\\",\\\"AreaName\\\":\\\"新竹市\\\",\\\"fld01\\\":11,\\\"fld02\\\":96,\\\"fld03\\\":3,\\\"fld05\\\":69,\\\"fld06\\\":5,\\\"fld04\\\":48,\\\"fld08\\\":0,\\\"fld07\\\":9,\\\"fld10\\\":0,\\\"QueryDT\\\":\\\"2024/12/07\\\"},{\\\"AreaID\\\":\\\"T\\\",\\\"AreaName\\\":\\\"嘉義市\\\",\\\"fld01\\\":17,\\\"fld02\\\":72,\\\"fld03\\\":6,\\\"fld05\\\":54,\\\"fld06\\\":5,\\\"fld04\\\":20,\\\"fld08\\\":0,\\\"fld07\\\":0,\\\"fld10\\\":0,\\\"QueryDT\\\":\\\"2024/12/07\\\"},{\\\"AreaID\\\":\\\"Y\\\",\\\"AreaName\\\":\\\"金門縣\\\",\\\"fld01\\\":1,\\\"fld02\\\":24,\\\"fld03\\\":0,\\\"fld05\\\":6,\\\"fld06\\\":2,\\\"fld04\\\":16,\\\"fld08\\\":0,\\\"fld07\\\":3,\\\"fld10\\\":0,\\\"QueryDT\\\":\\\"2024/12/07\\\"},{\\\"AreaID\\\":\\\"X\\\",\\\"AreaName\\\":\\\"連江縣\\\",\\\"fld01\\\":1,\\\"fld02\\\":3,\\\"fld03\\\":0,\\\"fld05\\\":2,\\\"fld06\\\":0,\\\"fld04\\\":1,\\\"fld08\\\":0,\\\"fld07\\\":0,\\\"fld10\\\":0,\\\"QueryDT\\\":\\\"2024/12/07\\\"}]\",'RowCount':\"22\",'Success': true"
   ]
  },
  {
   "cell_type": "code",
   "execution_count": null,
   "metadata": {},
   "outputs": [],
   "source": []
  }
 ],
 "metadata": {
  "kernelspec": {
   "display_name": "home_env",
   "language": "python",
   "name": "python3"
  },
  "language_info": {
   "codemirror_mode": {
    "name": "ipython",
    "version": 3
   },
   "file_extension": ".py",
   "mimetype": "text/x-python",
   "name": "python",
   "nbconvert_exporter": "python",
   "pygments_lexer": "ipython3",
   "version": "3.12.7"
  }
 },
 "nbformat": 4,
 "nbformat_minor": 2
}
